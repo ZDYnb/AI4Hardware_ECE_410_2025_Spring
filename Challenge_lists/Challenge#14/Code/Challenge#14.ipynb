{
 "cells": [
  {
   "cell_type": "markdown",
   "id": "adcd5b65",
   "metadata": {},
   "source": [
    "# Challenge #14\n",
    "**Eric Zhou**  \n",
    "**April 27, 2025**\n",
    "\n",
    "# Introduction\n",
    "Through Challenge 13, we explored benchmarking CUDA GPU performance by computing data of different sizes. GPU accelerators can indeed provide better performance through parallel computing, but they are constrained by additional memory allocation and data transmission.\n",
    "\n",
    "In this Challenge 14, we want to move futher cuda code with computing th e the Fibonacci sequence"
   ]
  }
 ],
 "metadata": {
  "language_info": {
   "name": "python"
  }
 },
 "nbformat": 4,
 "nbformat_minor": 5
}
