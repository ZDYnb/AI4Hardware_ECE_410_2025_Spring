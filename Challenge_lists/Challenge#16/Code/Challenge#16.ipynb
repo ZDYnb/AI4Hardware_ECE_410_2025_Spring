{
 "cells": [
  {
   "cell_type": "markdown",
   "id": "ed0272ab",
   "metadata": {},
   "source": [
    "# Challenge #16\n",
    "**Eric Zhou**  \n",
    "**April 29, 2025**\n",
    "\n",
    "# intro\n",
    "\n",
    "In this part, we want to futher our Neural Network implementation of parallel computing with both Cuda and powerful python pytorch tools.\n",
    "\n",
    "# Nerual network\n",
    "\n"
   ]
  }
 ],
 "metadata": {
  "language_info": {
   "name": "python"
  }
 },
 "nbformat": 4,
 "nbformat_minor": 5
}
