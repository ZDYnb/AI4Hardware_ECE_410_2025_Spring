{
 "cells": [
  {
   "cell_type": "markdown",
   "id": "7f0d6f88",
   "metadata": {},
   "source": [
    "Part 1: Identify the comparable logic\n",
    "Let’s isolate the most important Q-learning update rule from your Python code:\n",
    "\n",
    "q_value = (1 - alpha) * Q[(i,j,action)] + alpha * (reward + gamma * Q[(next_i, next_j, a)])\n",
    "Your Verilog code implements this using fixed-point math. So, the goal is to test:\n",
    "\n",
    "For a given (s, a, s', r) input tuple,\n",
    "\n",
    "The Verilog and Python modules should produce the same (or very close) new Q(s,a)."
   ]
  },
  {
   "cell_type": "markdown",
   "id": "ee09756e",
   "metadata": {},
   "source": [
    "Create a Python script that exports Q-update test vectors to a file for Verilog testbench."
   ]
  },
  {
   "cell_type": "code",
   "execution_count": 1,
   "id": "bf3c1057",
   "metadata": {},
   "outputs": [],
   "source": [
    "import numpy as np\n",
    "import csv\n",
    "\n",
    "# fixed test input\n",
    "alpha = 0.5\n",
    "gamma = 0.9\n",
    "\n",
    "# test data\n",
    "test_cases = [\n",
    "    # curr_row, curr_col, curr_action, next_row, next_col, reward, Q(s,a), max_a(Q(s'))\n",
    "    (1, 1, 2, 2, 2, -1, 0.5, 0.9),\n",
    "    (0, 0, 1, 0, 1, -1, 0.2, 0.4),\n",
    "    (2, 3, 3, 4, 4, 1, 0.0, 1.0),\n",
    "    (4, 2, 0, 4, 3, -5, 0.8, 0.3),\n",
    "]\n",
    "\n",
    "with open(\"test_vectors.csv\", \"w\", newline=\"\") as csvfile:\n",
    "    writer = csv.writer(csvfile)\n",
    "    writer.writerow([\"s_row\", \"s_col\", \"action\", \"next_row\", \"next_col\", \"reward\", \"Q_sa\", \"Q_max_next\"])\n",
    "    for case in test_cases:\n",
    "        writer.writerow(case)\n"
   ]
  },
  {
   "cell_type": "markdown",
   "id": "f16199aa",
   "metadata": {},
   "source": [
    "Create a Verilog testbench (tb_q_update_unit.sv) that:\n",
    "Reads values from a file;\n",
    "Applies them to the DUT (your q_update_unit);\n",
    "Captures output Q′;\n",
    "Logs results for comparison;"
   ]
  },
  {
   "cell_type": "code",
   "execution_count": null,
   "id": "866f38f1",
   "metadata": {},
   "outputs": [],
   "source": [
    "module tb_q_update_unit;\n",
    "\n",
    "    // Parameters\n",
    "    parameter Q_WIDTH = 16;\n",
    "\n",
    "    // DUT inputs\n",
    "    logic clk = 0, rst = 0, start = 0;\n",
    "    logic [2:0] curr_row, curr_col, next_row, next_col;\n",
    "    logic [1:0] curr_action;\n",
    "    logic signed [Q_WIDTH-1:0] reward;\n",
    "\n",
    "    // DUT output\n",
    "    logic done;\n",
    "\n",
    "    // Instantiate DUT\n",
    "    q_update_unit dut (\n",
    "        .clk(clk), .rst(rst), .start(start),\n",
    "        .curr_row(curr_row), .curr_col(curr_col),\n",
    "        .curr_action(curr_action), .reward(reward),\n",
    "        .next_row(next_row), .next_col(next_col),\n",
    "        .done(done)\n",
    "    );\n",
    "\n",
    "    // Clock\n",
    "    always #5 clk = ~clk;\n",
    "\n",
    "    initial begin\n",
    "        $display(\"Starting Verilog test...\");\n",
    "\n",
    "        // Read from test_vectors.csv converted to .mem or .hex if needed\n",
    "        // OR hardcode a few vectors here for testing\n",
    "\n",
    "        // Example test\n",
    "        rst = 1; #10; rst = 0;\n",
    "        curr_row = 3;\n",
    "        curr_col = 2;\n",
    "        curr_action = 1;\n",
    "        next_row = 3;\n",
    "        next_col = 3;\n",
    "        reward = -16'd1;  // Fixed-point representation\n",
    "\n",
    "        start = 1; #10; start = 0;\n",
    "\n",
    "        wait (done == 1);\n",
    "        $display(\"Test completed\");\n",
    "        $finish;\n",
    "    end\n",
    "endmodule\n"
   ]
  }
 ],
 "metadata": {
  "kernelspec": {
   "display_name": "Python (joyrl-book)",
   "language": "python",
   "name": "joyrl-book"
  },
  "language_info": {
   "codemirror_mode": {
    "name": "ipython",
    "version": 3
   },
   "file_extension": ".py",
   "mimetype": "text/x-python",
   "name": "python",
   "nbconvert_exporter": "python",
   "pygments_lexer": "ipython3",
   "version": "3.10.14"
  }
 },
 "nbformat": 4,
 "nbformat_minor": 5
}
